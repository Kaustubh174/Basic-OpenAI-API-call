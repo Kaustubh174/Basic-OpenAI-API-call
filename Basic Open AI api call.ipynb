{
 "cells": [
  {
   "cell_type": "markdown",
   "id": "38fe6899",
   "metadata": {},
   "source": [
    "## Basic Open AI api call"
   ]
  },
  {
   "cell_type": "code",
   "execution_count": null,
   "id": "5df1b676",
   "metadata": {},
   "outputs": [],
   "source": [
    "!pip install -q openai"
   ]
  },
  {
   "cell_type": "code",
   "execution_count": 1,
   "id": "668e3af9",
   "metadata": {},
   "outputs": [],
   "source": [
    "import openai\n",
    "import os\n"
   ]
  },
  {
   "cell_type": "markdown",
   "id": "54137266",
   "metadata": {},
   "source": [
    " #### After installing and importing all the required you need put your api in the section (your api key)"
   ]
  },
  {
   "cell_type": "code",
   "execution_count": 7,
   "id": "07a3ebf7",
   "metadata": {},
   "outputs": [],
   "source": [
    "os.environ['OPENAI_API_KEY'] = 'your api key'\n",
    "openai.api_key = os.getenv('OPENAI_API_KEY')"
   ]
  },
  {
   "cell_type": "markdown",
   "id": "6812d93f",
   "metadata": {},
   "source": [
    "#### After this you need to import the OpenAI Library and set the role of the system and the user\n",
    "\n",
    "System is the role you want your api to behave like in our case it is an helpful assistant.\n",
    "User role in where you need to set the question you want to be answered"
   ]
  },
  {
   "cell_type": "code",
   "execution_count": 8,
   "id": "e720ce82",
   "metadata": {},
   "outputs": [
    {
     "name": "stdout",
     "output_type": "stream",
     "text": [
      "ChatCompletion(id='chatcmpl-9McqBwuu4ArOS6S047BR9uQSthaQc', choices=[Choice(finish_reason='stop', index=0, logprobs=None, message=ChatCompletionMessage(content=\"The Einstein field equations are a set of ten interrelated differential equations in Albert Einstein's general theory of relativity that describe the fundamental interaction of gravitation as a result of spacetime being curved by mass and energy. The equations relate the curvature of spacetime with the distribution of matter and energy in that spacetime. The field equations are a system of partial differential equations.\", role='assistant', function_call=None, tool_calls=None))], created=1715179547, model='gpt-3.5-turbo-0125', object='chat.completion', system_fingerprint=None, usage=CompletionUsage(completion_tokens=74, prompt_tokens=25, total_tokens=99))\n"
     ]
    }
   ],
   "source": [
    "from openai import OpenAI\n",
    "client = OpenAI()\n",
    "\n",
    "    \n",
    "response = client.chat.completions.create(\n",
    "    model='gpt-3.5-turbo',\n",
    "    messages=[\n",
    "        {'role':'system','content':'you are a helpful assistant.'},\n",
    "        {'role':'user','content':'what is the einstein field equation?'}\n",
    "    ]\n",
    ")\n",
    "##each message has roles. roles=> system, user, assistant\n",
    "##other agruments are temperature, max tokens\n",
    "\n",
    "print(response)"
   ]
  },
  {
   "cell_type": "markdown",
   "id": "aeff4d91",
   "metadata": {},
   "source": [
    "#### The above output is has your required output but you need to change the print command to a where your actual output is"
   ]
  },
  {
   "cell_type": "code",
   "execution_count": 9,
   "id": "a1ad92a8",
   "metadata": {},
   "outputs": [
    {
     "name": "stdout",
     "output_type": "stream",
     "text": [
      "The Einstein field equations are a set of ten interrelated differential equations in Albert Einstein's general theory of relativity that describe the fundamental interaction of gravitation as a result of spacetime being curved by mass and energy. The equations relate the curvature of spacetime with the distribution of matter and energy in that spacetime. The field equations are a system of partial differential equations.\n"
     ]
    }
   ],
   "source": [
    "print(response.choices[0].message.content)"
   ]
  },
  {
   "cell_type": "code",
   "execution_count": null,
   "id": "a1c3b56d",
   "metadata": {},
   "outputs": [],
   "source": []
  }
 ],
 "metadata": {
  "kernelspec": {
   "display_name": "Python 3 (ipykernel)",
   "language": "python",
   "name": "python3"
  },
  "language_info": {
   "codemirror_mode": {
    "name": "ipython",
    "version": 3
   },
   "file_extension": ".py",
   "mimetype": "text/x-python",
   "name": "python",
   "nbconvert_exporter": "python",
   "pygments_lexer": "ipython3",
   "version": "3.11.4"
  }
 },
 "nbformat": 4,
 "nbformat_minor": 5
}
